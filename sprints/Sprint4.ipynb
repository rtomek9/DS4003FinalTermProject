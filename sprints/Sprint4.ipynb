{
  "nbformat": 4,
  "nbformat_minor": 0,
  "metadata": {
    "colab": {
      "provenance": []
    },
    "kernelspec": {
      "name": "python3",
      "display_name": "Python 3"
    },
    "language_info": {
      "name": "python"
    }
  },
  "cells": [
    {
      "cell_type": "code",
      "execution_count": null,
      "metadata": {
        "colab": {
          "base_uri": "https://localhost:8080/"
        },
        "id": "kRXH5MUQbAWF",
        "outputId": "af3f3ae6-19a4-4207-a049-4f2ac8277721"
      },
      "outputs": [
        {
          "output_type": "stream",
          "name": "stdout",
          "text": [
            "Collecting dash\n",
            "  Downloading dash-2.16.1-py3-none-any.whl (10.2 MB)\n",
            "\u001b[2K     \u001b[90m━━━━━━━━━━━━━━━━━━━━━━━━━━━━━━━━━━━━━━━━\u001b[0m \u001b[32m10.2/10.2 MB\u001b[0m \u001b[31m19.8 MB/s\u001b[0m eta \u001b[36m0:00:00\u001b[0m\n",
            "\u001b[?25hRequirement already satisfied: Flask<3.1,>=1.0.4 in /usr/local/lib/python3.10/dist-packages (from dash) (2.2.5)\n",
            "Requirement already satisfied: Werkzeug<3.1 in /usr/local/lib/python3.10/dist-packages (from dash) (3.0.2)\n",
            "Requirement already satisfied: plotly>=5.0.0 in /usr/local/lib/python3.10/dist-packages (from dash) (5.15.0)\n",
            "Collecting dash-html-components==2.0.0 (from dash)\n",
            "  Downloading dash_html_components-2.0.0-py3-none-any.whl (4.1 kB)\n",
            "Collecting dash-core-components==2.0.0 (from dash)\n",
            "  Downloading dash_core_components-2.0.0-py3-none-any.whl (3.8 kB)\n",
            "Collecting dash-table==5.0.0 (from dash)\n",
            "  Downloading dash_table-5.0.0-py3-none-any.whl (3.9 kB)\n",
            "Requirement already satisfied: importlib-metadata in /usr/local/lib/python3.10/dist-packages (from dash) (7.1.0)\n",
            "Requirement already satisfied: typing-extensions>=4.1.1 in /usr/local/lib/python3.10/dist-packages (from dash) (4.11.0)\n",
            "Requirement already satisfied: requests in /usr/local/lib/python3.10/dist-packages (from dash) (2.31.0)\n",
            "Collecting retrying (from dash)\n",
            "  Downloading retrying-1.3.4-py3-none-any.whl (11 kB)\n",
            "Requirement already satisfied: nest-asyncio in /usr/local/lib/python3.10/dist-packages (from dash) (1.6.0)\n",
            "Requirement already satisfied: setuptools in /usr/local/lib/python3.10/dist-packages (from dash) (67.7.2)\n",
            "Requirement already satisfied: Jinja2>=3.0 in /usr/local/lib/python3.10/dist-packages (from Flask<3.1,>=1.0.4->dash) (3.1.3)\n",
            "Requirement already satisfied: itsdangerous>=2.0 in /usr/local/lib/python3.10/dist-packages (from Flask<3.1,>=1.0.4->dash) (2.1.2)\n",
            "Requirement already satisfied: click>=8.0 in /usr/local/lib/python3.10/dist-packages (from Flask<3.1,>=1.0.4->dash) (8.1.7)\n",
            "Requirement already satisfied: tenacity>=6.2.0 in /usr/local/lib/python3.10/dist-packages (from plotly>=5.0.0->dash) (8.2.3)\n",
            "Requirement already satisfied: packaging in /usr/local/lib/python3.10/dist-packages (from plotly>=5.0.0->dash) (24.0)\n",
            "Requirement already satisfied: MarkupSafe>=2.1.1 in /usr/local/lib/python3.10/dist-packages (from Werkzeug<3.1->dash) (2.1.5)\n",
            "Requirement already satisfied: zipp>=0.5 in /usr/local/lib/python3.10/dist-packages (from importlib-metadata->dash) (3.18.1)\n",
            "Requirement already satisfied: charset-normalizer<4,>=2 in /usr/local/lib/python3.10/dist-packages (from requests->dash) (3.3.2)\n",
            "Requirement already satisfied: idna<4,>=2.5 in /usr/local/lib/python3.10/dist-packages (from requests->dash) (3.6)\n",
            "Requirement already satisfied: urllib3<3,>=1.21.1 in /usr/local/lib/python3.10/dist-packages (from requests->dash) (2.0.7)\n",
            "Requirement already satisfied: certifi>=2017.4.17 in /usr/local/lib/python3.10/dist-packages (from requests->dash) (2024.2.2)\n",
            "Requirement already satisfied: six>=1.7.0 in /usr/local/lib/python3.10/dist-packages (from retrying->dash) (1.16.0)\n",
            "Installing collected packages: dash-table, dash-html-components, dash-core-components, retrying, dash\n",
            "Successfully installed dash-2.16.1 dash-core-components-2.0.0 dash-html-components-2.0.0 dash-table-5.0.0 retrying-1.3.4\n"
          ]
        }
      ],
      "source": [
        "!pip install dash"
      ]
    },
    {
      "cell_type": "code",
      "source": [],
      "metadata": {
        "id": "0419lQRQbLhZ"
      },
      "execution_count": null,
      "outputs": []
    },
    {
      "cell_type": "code",
      "source": [
        "\n",
        "import pandas as pd\n",
        "import numpy as np\n",
        "import plotly.express as px\n",
        "from dash import Dash, dcc, html, Input, Output, callback\n",
        "from datetime import date\n",
        "import pandas as pd\n",
        "import plotly.graph_objects as go\n",
        "\n",
        "df = pd.read_csv('/content/mydata2.csv')\n",
        "rad_columns = [\"stability\",\t\"rights\",\t\"health\",\t\"safety\",\t\"climate\",\t\"cost\",\t\"popularity\"]\n",
        "range = [0,10,20,30,40,50,60,70,80,90,100]\n",
        "\n",
        "# initialize app\n",
        "external_stylesheets = ['https://codepen.io/chriddyp/pen/bWLwgP.css']\n",
        "app = Dash(__name__, external_stylesheets=external_stylesheets)\n",
        "server = app.server\n",
        "#define layout and elements\n",
        "app.layout = html.Div([\n",
        "    html.H2(\"Oh the Places You'll Go!\"),\n",
        "    html.P(\"The following data come from a variety of reputable sources \"\n",
        "           \"for each different metric: Some are from the World Bank, other metrics \"\n",
        "           \"are compiled from the United Nations, and others are taken from the \"\n",
        "           \"Institute for Economics & Peace. The dataset has then been uploaded \"\n",
        "           \"to Kaggle and is now accessible to all Kaggle users.\"),\n",
        "    html.H4(\"Select two countries\"),\n",
        "    dcc.Dropdown(\n",
        "                    id='country-dropdown',\n",
        "                   options=[{'label': country, 'value': country} for country in df['country']],\n",
        "                    value=df['country'][:2],\n",
        "                    multi=True\n",
        "                ),\n",
        "        html.Div([\n",
        "        dcc.Graph(id='polar-plot', figure={})\n",
        "    ], style={'display': 'inline-block', 'width': '50%'}),\n",
        "    html.Div([\n",
        "        html.H4(\"Select two metrics\"),\n",
        "        dcc.Dropdown(\n",
        "            id='metric-dropdown',\n",
        "            options=[{'label': col, 'value': col} for col in df.columns if col != 'country'],\n",
        "            value=[\"climate\", \"health\"],\n",
        "            multi=True\n",
        "        ),\n",
        "        dcc.Graph(id='bar-chart', figure={}),\n",
        "    ], style={'display': 'inline-block', 'width': '50%', 'vertical-align': 'top', 'float': 'right'}),\n",
        "    html.Div(id='country-info', style={'text-align': 'right', 'margin-right': '100px', 'margin-top':'100px'})\n",
        "])\n",
        "\n",
        "@app.callback(\n",
        "   [Output('polar-plot', 'figure'),\n",
        "    Output('bar-chart', 'figure')],\n",
        "   [Input('country-dropdown', 'value'),\n",
        "    Input('metric-dropdown','value')]\n",
        ")\n",
        "\n",
        "def update_plot(selected_countries, selected_metrics):\n",
        "    traces = []\n",
        "    for country in selected_countries:\n",
        "        country_data = df[df['country'] == country]\n",
        "        values = country_data[rad_columns].values.flatten().tolist()\n",
        "        traces.append(go.Scatterpolar(\n",
        "            r=values,\n",
        "            theta=rad_columns,\n",
        "            fill='toself',\n",
        "            name=country\n",
        "        ))\n",
        "    layout = go.Layout(\n",
        "        polar=dict(\n",
        "            radialaxis=dict(\n",
        "                visible=True,\n",
        "                range=[0, 100]\n",
        "            )\n",
        "        ),\n",
        "        showlegend=True\n",
        "    )\n",
        "    polar_fig = go.Figure(data=traces, layout=layout)\n",
        "\n",
        "    bar_traces = []\n",
        "    for metric in selected_metrics:\n",
        "        bar_traces.append(go.Bar(\n",
        "            x=selected_countries,\n",
        "            y=df[df['country'].isin(selected_countries)][metric],\n",
        "            name=metric\n",
        "        ))\n",
        "    bar_layout = go.Layout(\n",
        "        barmode='group',\n",
        "        xaxis=dict(title='Country'),\n",
        "        yaxis=dict(title='Value')\n",
        "    )\n",
        "    bar_fig = go.Figure(data=bar_traces, layout=bar_layout)\n",
        "\n",
        "    return polar_fig, bar_fig\n",
        "\n",
        "@app.callback(\n",
        "    Output('country-info', 'children'),\n",
        "    Input('country-dropdown', 'value')\n",
        ")\n",
        "def update_country_info(selected_countries):\n",
        "    info = html.Div(children=[\n",
        "        html.Div([\n",
        "            html.H3(country),\n",
        "            html.P(f\"Strength: {df[df['country'] == country][rad_columns].max().idxmax()}\"),\n",
        "            html.P(f\"Weakness: {df[df['country'] == country][rad_columns].min().idxmin()}\")\n",
        "        ], style={'display': 'inline-block', 'width': '25%', 'margin-bottom': '20px'})\n",
        "        for country in selected_countries\n",
        "    ])\n",
        "\n",
        "    return info\n",
        "\n",
        "# run app\n",
        "if __name__ == '__main__':\n",
        "    app.run(jupyter_mode='external', debug=True)"
      ],
      "metadata": {
        "colab": {
          "base_uri": "https://localhost:8080/",
          "height": 52
        },
        "id": "ImcI1P0UmPcd",
        "outputId": "0469c31d-0058-426a-f7c0-6e277807b636"
      },
      "execution_count": null,
      "outputs": [
        {
          "output_type": "stream",
          "name": "stdout",
          "text": [
            "Dash app running on:\n"
          ]
        },
        {
          "output_type": "display_data",
          "data": {
            "text/plain": [
              "<IPython.core.display.Javascript object>"
            ],
            "application/javascript": [
              "(async (port, path, text, element) => {\n",
              "    if (!google.colab.kernel.accessAllowed) {\n",
              "      return;\n",
              "    }\n",
              "    element.appendChild(document.createTextNode(''));\n",
              "    const url = await google.colab.kernel.proxyPort(port);\n",
              "    const anchor = document.createElement('a');\n",
              "    anchor.href = new URL(path, url).toString();\n",
              "    anchor.target = '_blank';\n",
              "    anchor.setAttribute('data-href', url + path);\n",
              "    anchor.textContent = text;\n",
              "    element.appendChild(anchor);\n",
              "  })(8050, \"/\", \"http://127.0.0.1:8050/\", window.element)"
            ]
          },
          "metadata": {}
        }
      ]
    }
  ]
}